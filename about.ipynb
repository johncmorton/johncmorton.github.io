{
  "cells": [
    {
      "cell_type": "markdown",
      "metadata": {},
      "source": [
        "# Header 1\n",
        "\n",
        "## H2\n",
        "\n",
        "### H3\n",
        "\n",
        "this wejkdekjhued\n",
        "\n",
        "\n",
        "This is a list\n",
        "\n",
        " - e1\n",
        "\n",
        " - e2\n",
        "\n",
        "> a quote\n",
        "\n",
        "\n",
        "```{=html}\n",
        "<h1>This is a triumph</h1>\n",
        "```"
      ],
      "id": "41ebc72b"
    },
    {
      "cell_type": "code",
      "metadata": {},
      "source": [
        "for i in range(3):\n",
        "    print(i+\"th\")"
      ],
      "id": "78708c7c",
      "execution_count": null,
      "outputs": []
    }
  ],
  "metadata": {
    "kernelspec": {
      "display_name": "Python 3",
      "language": "python",
      "name": "python3"
    }
  },
  "nbformat": 4,
  "nbformat_minor": 5
}